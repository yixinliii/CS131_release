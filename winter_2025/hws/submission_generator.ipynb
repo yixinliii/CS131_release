{
 "cells": [
  {
   "cell_type": "code",
   "execution_count": 1,
   "metadata": {
    "id": "rlpAlQPQh807"
   },
   "outputs": [],
   "source": [
    "hw = 2\n",
    "path = f'/Users/yixinli/code/cs131/winter_2025/hws/hw{hw}_release/'"
   ]
  },
  {
   "cell_type": "code",
   "execution_count": 2,
   "metadata": {},
   "outputs": [],
   "source": [
    "import json\n",
    "\n",
    "with open(f'{path}/hw{hw}.ipynb', 'r') as f:\n",
    "    notebook_data = json.load(f)\n",
    "\n",
    "# Step 1: Extract all code cells\n",
    "code_cells = [\n",
    "    \"\".join(cell['source']) for cell in notebook_data['cells']\n",
    "    if cell['cell_type'] == 'code'\n",
    "]\n",
    "\n",
    "# Step 2: Extract code cells containing functions\n",
    "function_cells = []\n",
    "\n",
    "for idx, code_cell in enumerate(code_cells):\n",
    "    lines = code_cell.splitlines()\n",
    "\n",
    "    for line in lines:\n",
    "        if line.strip():\n",
    "            if line.strip().startswith(\"def\"):\n",
    "                function_cells.append(code_cell)\n",
    "            break\n",
    "\n",
    "# Step 3: Write import statements and functions to hw0.py\n",
    "# (Add any additional imports you need to the string below)\n",
    "with open(f'{path}/hw{hw}.py', 'w') as f:\n",
    "  imports = \"\"\"from __future__ import print_function\n",
    "import random\n",
    "import numpy as np\n",
    "import time\n",
    "from PIL import Image\n",
    "from skimage import color, io\n",
    "import matplotlib.pyplot as plt\n",
    "from typing import Tuple\n",
    "from skimage import filters\n",
    "from scipy.ndimage import convolve\n",
    "from scipy.spatial.distance import cdist\n",
    "plt.rcParams['figure.figsize'] = (10.0, 8.0) # set default size of plots\n",
    "plt.rcParams['image.interpolation'] = 'nearest'\n",
    "plt.rcParams['image.cmap'] = 'gray'\"\"\"\n",
    "\n",
    "  f.write(imports)\n",
    "  f.write(\"\\n\\n\")\n",
    "  for idx, function_cell in enumerate(function_cells):\n",
    "      f.write(function_cell + \"\\n\\n\")"
   ]
  }
 ],
 "metadata": {
  "colab": {
   "provenance": []
  },
  "kernelspec": {
   "display_name": "cs131",
   "language": "python",
   "name": "python3"
  },
  "language_info": {
   "codemirror_mode": {
    "name": "ipython",
    "version": 3
   },
   "file_extension": ".py",
   "mimetype": "text/x-python",
   "name": "python",
   "nbconvert_exporter": "python",
   "pygments_lexer": "ipython3",
   "version": "3.10.13"
  }
 },
 "nbformat": 4,
 "nbformat_minor": 0
}
